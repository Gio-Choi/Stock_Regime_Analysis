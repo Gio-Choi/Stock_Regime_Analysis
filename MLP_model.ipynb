{
  "nbformat": 4,
  "nbformat_minor": 0,
  "metadata": {
    "colab": {
      "provenance": [],
      "collapsed_sections": [],
      "mount_file_id": "18pVM-yl7V80IfcH8bqMNxyVQCWJZWmvk",
      "authorship_tag": "ABX9TyP29RwVlCflpkZzsva3+rf2",
      "include_colab_link": true
    },
    "kernelspec": {
      "name": "python3",
      "display_name": "Python 3"
    },
    "language_info": {
      "name": "python"
    },
    "accelerator": "GPU"
  },
  "cells": [
    {
      "cell_type": "markdown",
      "metadata": {
        "id": "view-in-github",
        "colab_type": "text"
      },
      "source": [
        "<a href=\"https://colab.research.google.com/github/Gio-Choi/Stock_Regime_Analysis/blob/main/MLP_model.ipynb\" target=\"_parent\"><img src=\"https://colab.research.google.com/assets/colab-badge.svg\" alt=\"Open In Colab\"/></a>"
      ]
    },
    {
      "cell_type": "code",
      "source": [
        "from google.colab import drive\n",
        "\n",
        "drive.mount('/content/drive')"
      ],
      "metadata": {
        "colab": {
          "base_uri": "https://localhost:8080/"
        },
        "id": "sgE2Mek_wOxH",
        "outputId": "6f173fef-7d65-4837-a36b-4acaf53d815d"
      },
      "execution_count": null,
      "outputs": [
        {
          "output_type": "stream",
          "name": "stdout",
          "text": [
            "Drive already mounted at /content/drive; to attempt to forcibly remount, call drive.mount(\"/content/drive\", force_remount=True).\n"
          ]
        }
      ]
    },
    {
      "cell_type": "code",
      "source": [
        "import pandas as pd\n",
        "\n",
        "df = pd.read_csv('/content/drive/MyDrive/Colab Notebooks/Capstone_Dataset.csv')"
      ],
      "metadata": {
        "id": "nKvFHHtHvpyW"
      },
      "execution_count": null,
      "outputs": []
    },
    {
      "cell_type": "code",
      "source": [
        "df"
      ],
      "metadata": {
        "colab": {
          "base_uri": "https://localhost:8080/",
          "height": 419
        },
        "id": "meXu-G00wgSr",
        "outputId": "b5cc4603-1090-4d2d-a1ed-24894d673681"
      },
      "execution_count": null,
      "outputs": [
        {
          "output_type": "execute_result",
          "data": {
            "text/plain": [
              "     Unnamed: 0        ^GSPC  VIXCLS  CPIAUCSL     M2SL  FEDFUNDS  T10Y2Y  \\\n",
              "0    2004-03-01  1155.969971   14.44   187.100   6150.1      1.00    2.33   \n",
              "1    2004-04-01  1132.170044   16.65   187.400   6191.2      1.00    2.26   \n",
              "2    2004-05-03  1117.489990   16.62   188.200   6268.1      1.00    2.19   \n",
              "3    2004-06-01  1121.199951   16.30   188.900   6270.5      1.03    2.11   \n",
              "4    2004-07-01  1128.939941   15.20   189.100   6284.3      1.26    1.93   \n",
              "..          ...          ...     ...       ...      ...       ...     ...   \n",
              "197  2020-08-03  3294.610107   24.28   259.580  18357.4      0.10    0.45   \n",
              "198  2020-09-01  3526.649902   26.12   260.190  18575.2      0.09    0.55   \n",
              "199  2020-10-01  3380.800049   26.70   260.352  18735.7      0.09    0.54   \n",
              "200  2020-11-02  3310.239990   37.13   260.721  18969.8      0.09    0.71   \n",
              "201  2020-12-01  3662.449951   20.77   261.564  19124.7      0.09    0.75   \n",
              "\n",
              "      AAA  UNRATE  PCUOMFGOMFG  USPHCI     IQ  S&P_pct  \n",
              "0    5.33     5.8        140.3   90.98  103.0      1.0  \n",
              "1    5.73     5.6        141.8   91.28  103.7      0.0  \n",
              "2    6.04     5.6        143.3   91.52  104.1      0.0  \n",
              "3    6.01     5.6        142.9   91.73  103.4      1.0  \n",
              "4    5.82     5.5        143.2   91.95  103.9      1.0  \n",
              "..    ...     ...          ...     ...    ...      ...  \n",
              "197  2.25     8.4        193.0  121.22  122.1      1.0  \n",
              "198  2.31     7.9        192.9  121.97  122.8      1.0  \n",
              "199  2.35     6.9        193.7  122.93  123.0      0.0  \n",
              "200  2.30     6.7        194.5  123.41  124.0      0.0  \n",
              "201  2.26     6.7        196.7  123.66  125.5      1.0  \n",
              "\n",
              "[202 rows x 13 columns]"
            ],
            "text/html": [
              "\n",
              "  <div id=\"df-53002be9-5fa4-4e84-ae9d-da5709745057\">\n",
              "    <div class=\"colab-df-container\">\n",
              "      <div>\n",
              "<style scoped>\n",
              "    .dataframe tbody tr th:only-of-type {\n",
              "        vertical-align: middle;\n",
              "    }\n",
              "\n",
              "    .dataframe tbody tr th {\n",
              "        vertical-align: top;\n",
              "    }\n",
              "\n",
              "    .dataframe thead th {\n",
              "        text-align: right;\n",
              "    }\n",
              "</style>\n",
              "<table border=\"1\" class=\"dataframe\">\n",
              "  <thead>\n",
              "    <tr style=\"text-align: right;\">\n",
              "      <th></th>\n",
              "      <th>Unnamed: 0</th>\n",
              "      <th>^GSPC</th>\n",
              "      <th>VIXCLS</th>\n",
              "      <th>CPIAUCSL</th>\n",
              "      <th>M2SL</th>\n",
              "      <th>FEDFUNDS</th>\n",
              "      <th>T10Y2Y</th>\n",
              "      <th>AAA</th>\n",
              "      <th>UNRATE</th>\n",
              "      <th>PCUOMFGOMFG</th>\n",
              "      <th>USPHCI</th>\n",
              "      <th>IQ</th>\n",
              "      <th>S&amp;P_pct</th>\n",
              "    </tr>\n",
              "  </thead>\n",
              "  <tbody>\n",
              "    <tr>\n",
              "      <th>0</th>\n",
              "      <td>2004-03-01</td>\n",
              "      <td>1155.969971</td>\n",
              "      <td>14.44</td>\n",
              "      <td>187.100</td>\n",
              "      <td>6150.1</td>\n",
              "      <td>1.00</td>\n",
              "      <td>2.33</td>\n",
              "      <td>5.33</td>\n",
              "      <td>5.8</td>\n",
              "      <td>140.3</td>\n",
              "      <td>90.98</td>\n",
              "      <td>103.0</td>\n",
              "      <td>1.0</td>\n",
              "    </tr>\n",
              "    <tr>\n",
              "      <th>1</th>\n",
              "      <td>2004-04-01</td>\n",
              "      <td>1132.170044</td>\n",
              "      <td>16.65</td>\n",
              "      <td>187.400</td>\n",
              "      <td>6191.2</td>\n",
              "      <td>1.00</td>\n",
              "      <td>2.26</td>\n",
              "      <td>5.73</td>\n",
              "      <td>5.6</td>\n",
              "      <td>141.8</td>\n",
              "      <td>91.28</td>\n",
              "      <td>103.7</td>\n",
              "      <td>0.0</td>\n",
              "    </tr>\n",
              "    <tr>\n",
              "      <th>2</th>\n",
              "      <td>2004-05-03</td>\n",
              "      <td>1117.489990</td>\n",
              "      <td>16.62</td>\n",
              "      <td>188.200</td>\n",
              "      <td>6268.1</td>\n",
              "      <td>1.00</td>\n",
              "      <td>2.19</td>\n",
              "      <td>6.04</td>\n",
              "      <td>5.6</td>\n",
              "      <td>143.3</td>\n",
              "      <td>91.52</td>\n",
              "      <td>104.1</td>\n",
              "      <td>0.0</td>\n",
              "    </tr>\n",
              "    <tr>\n",
              "      <th>3</th>\n",
              "      <td>2004-06-01</td>\n",
              "      <td>1121.199951</td>\n",
              "      <td>16.30</td>\n",
              "      <td>188.900</td>\n",
              "      <td>6270.5</td>\n",
              "      <td>1.03</td>\n",
              "      <td>2.11</td>\n",
              "      <td>6.01</td>\n",
              "      <td>5.6</td>\n",
              "      <td>142.9</td>\n",
              "      <td>91.73</td>\n",
              "      <td>103.4</td>\n",
              "      <td>1.0</td>\n",
              "    </tr>\n",
              "    <tr>\n",
              "      <th>4</th>\n",
              "      <td>2004-07-01</td>\n",
              "      <td>1128.939941</td>\n",
              "      <td>15.20</td>\n",
              "      <td>189.100</td>\n",
              "      <td>6284.3</td>\n",
              "      <td>1.26</td>\n",
              "      <td>1.93</td>\n",
              "      <td>5.82</td>\n",
              "      <td>5.5</td>\n",
              "      <td>143.2</td>\n",
              "      <td>91.95</td>\n",
              "      <td>103.9</td>\n",
              "      <td>1.0</td>\n",
              "    </tr>\n",
              "    <tr>\n",
              "      <th>...</th>\n",
              "      <td>...</td>\n",
              "      <td>...</td>\n",
              "      <td>...</td>\n",
              "      <td>...</td>\n",
              "      <td>...</td>\n",
              "      <td>...</td>\n",
              "      <td>...</td>\n",
              "      <td>...</td>\n",
              "      <td>...</td>\n",
              "      <td>...</td>\n",
              "      <td>...</td>\n",
              "      <td>...</td>\n",
              "      <td>...</td>\n",
              "    </tr>\n",
              "    <tr>\n",
              "      <th>197</th>\n",
              "      <td>2020-08-03</td>\n",
              "      <td>3294.610107</td>\n",
              "      <td>24.28</td>\n",
              "      <td>259.580</td>\n",
              "      <td>18357.4</td>\n",
              "      <td>0.10</td>\n",
              "      <td>0.45</td>\n",
              "      <td>2.25</td>\n",
              "      <td>8.4</td>\n",
              "      <td>193.0</td>\n",
              "      <td>121.22</td>\n",
              "      <td>122.1</td>\n",
              "      <td>1.0</td>\n",
              "    </tr>\n",
              "    <tr>\n",
              "      <th>198</th>\n",
              "      <td>2020-09-01</td>\n",
              "      <td>3526.649902</td>\n",
              "      <td>26.12</td>\n",
              "      <td>260.190</td>\n",
              "      <td>18575.2</td>\n",
              "      <td>0.09</td>\n",
              "      <td>0.55</td>\n",
              "      <td>2.31</td>\n",
              "      <td>7.9</td>\n",
              "      <td>192.9</td>\n",
              "      <td>121.97</td>\n",
              "      <td>122.8</td>\n",
              "      <td>1.0</td>\n",
              "    </tr>\n",
              "    <tr>\n",
              "      <th>199</th>\n",
              "      <td>2020-10-01</td>\n",
              "      <td>3380.800049</td>\n",
              "      <td>26.70</td>\n",
              "      <td>260.352</td>\n",
              "      <td>18735.7</td>\n",
              "      <td>0.09</td>\n",
              "      <td>0.54</td>\n",
              "      <td>2.35</td>\n",
              "      <td>6.9</td>\n",
              "      <td>193.7</td>\n",
              "      <td>122.93</td>\n",
              "      <td>123.0</td>\n",
              "      <td>0.0</td>\n",
              "    </tr>\n",
              "    <tr>\n",
              "      <th>200</th>\n",
              "      <td>2020-11-02</td>\n",
              "      <td>3310.239990</td>\n",
              "      <td>37.13</td>\n",
              "      <td>260.721</td>\n",
              "      <td>18969.8</td>\n",
              "      <td>0.09</td>\n",
              "      <td>0.71</td>\n",
              "      <td>2.30</td>\n",
              "      <td>6.7</td>\n",
              "      <td>194.5</td>\n",
              "      <td>123.41</td>\n",
              "      <td>124.0</td>\n",
              "      <td>0.0</td>\n",
              "    </tr>\n",
              "    <tr>\n",
              "      <th>201</th>\n",
              "      <td>2020-12-01</td>\n",
              "      <td>3662.449951</td>\n",
              "      <td>20.77</td>\n",
              "      <td>261.564</td>\n",
              "      <td>19124.7</td>\n",
              "      <td>0.09</td>\n",
              "      <td>0.75</td>\n",
              "      <td>2.26</td>\n",
              "      <td>6.7</td>\n",
              "      <td>196.7</td>\n",
              "      <td>123.66</td>\n",
              "      <td>125.5</td>\n",
              "      <td>1.0</td>\n",
              "    </tr>\n",
              "  </tbody>\n",
              "</table>\n",
              "<p>202 rows × 13 columns</p>\n",
              "</div>\n",
              "      <button class=\"colab-df-convert\" onclick=\"convertToInteractive('df-53002be9-5fa4-4e84-ae9d-da5709745057')\"\n",
              "              title=\"Convert this dataframe to an interactive table.\"\n",
              "              style=\"display:none;\">\n",
              "        \n",
              "  <svg xmlns=\"http://www.w3.org/2000/svg\" height=\"24px\"viewBox=\"0 0 24 24\"\n",
              "       width=\"24px\">\n",
              "    <path d=\"M0 0h24v24H0V0z\" fill=\"none\"/>\n",
              "    <path d=\"M18.56 5.44l.94 2.06.94-2.06 2.06-.94-2.06-.94-.94-2.06-.94 2.06-2.06.94zm-11 1L8.5 8.5l.94-2.06 2.06-.94-2.06-.94L8.5 2.5l-.94 2.06-2.06.94zm10 10l.94 2.06.94-2.06 2.06-.94-2.06-.94-.94-2.06-.94 2.06-2.06.94z\"/><path d=\"M17.41 7.96l-1.37-1.37c-.4-.4-.92-.59-1.43-.59-.52 0-1.04.2-1.43.59L10.3 9.45l-7.72 7.72c-.78.78-.78 2.05 0 2.83L4 21.41c.39.39.9.59 1.41.59.51 0 1.02-.2 1.41-.59l7.78-7.78 2.81-2.81c.8-.78.8-2.07 0-2.86zM5.41 20L4 18.59l7.72-7.72 1.47 1.35L5.41 20z\"/>\n",
              "  </svg>\n",
              "      </button>\n",
              "      \n",
              "  <style>\n",
              "    .colab-df-container {\n",
              "      display:flex;\n",
              "      flex-wrap:wrap;\n",
              "      gap: 12px;\n",
              "    }\n",
              "\n",
              "    .colab-df-convert {\n",
              "      background-color: #E8F0FE;\n",
              "      border: none;\n",
              "      border-radius: 50%;\n",
              "      cursor: pointer;\n",
              "      display: none;\n",
              "      fill: #1967D2;\n",
              "      height: 32px;\n",
              "      padding: 0 0 0 0;\n",
              "      width: 32px;\n",
              "    }\n",
              "\n",
              "    .colab-df-convert:hover {\n",
              "      background-color: #E2EBFA;\n",
              "      box-shadow: 0px 1px 2px rgba(60, 64, 67, 0.3), 0px 1px 3px 1px rgba(60, 64, 67, 0.15);\n",
              "      fill: #174EA6;\n",
              "    }\n",
              "\n",
              "    [theme=dark] .colab-df-convert {\n",
              "      background-color: #3B4455;\n",
              "      fill: #D2E3FC;\n",
              "    }\n",
              "\n",
              "    [theme=dark] .colab-df-convert:hover {\n",
              "      background-color: #434B5C;\n",
              "      box-shadow: 0px 1px 3px 1px rgba(0, 0, 0, 0.15);\n",
              "      filter: drop-shadow(0px 1px 2px rgba(0, 0, 0, 0.3));\n",
              "      fill: #FFFFFF;\n",
              "    }\n",
              "  </style>\n",
              "\n",
              "      <script>\n",
              "        const buttonEl =\n",
              "          document.querySelector('#df-53002be9-5fa4-4e84-ae9d-da5709745057 button.colab-df-convert');\n",
              "        buttonEl.style.display =\n",
              "          google.colab.kernel.accessAllowed ? 'block' : 'none';\n",
              "\n",
              "        async function convertToInteractive(key) {\n",
              "          const element = document.querySelector('#df-53002be9-5fa4-4e84-ae9d-da5709745057');\n",
              "          const dataTable =\n",
              "            await google.colab.kernel.invokeFunction('convertToInteractive',\n",
              "                                                     [key], {});\n",
              "          if (!dataTable) return;\n",
              "\n",
              "          const docLinkHtml = 'Like what you see? Visit the ' +\n",
              "            '<a target=\"_blank\" href=https://colab.research.google.com/notebooks/data_table.ipynb>data table notebook</a>'\n",
              "            + ' to learn more about interactive tables.';\n",
              "          element.innerHTML = '';\n",
              "          dataTable['output_type'] = 'display_data';\n",
              "          await google.colab.output.renderOutput(dataTable, element);\n",
              "          const docLink = document.createElement('div');\n",
              "          docLink.innerHTML = docLinkHtml;\n",
              "          element.appendChild(docLink);\n",
              "        }\n",
              "      </script>\n",
              "    </div>\n",
              "  </div>\n",
              "  "
            ]
          },
          "metadata": {},
          "execution_count": 30
        }
      ]
    },
    {
      "cell_type": "code",
      "source": [
        "!pip install scikeras"
      ],
      "metadata": {
        "colab": {
          "base_uri": "https://localhost:8080/"
        },
        "id": "k6_Ahjfhx6TR",
        "outputId": "603cad6a-3909-4d0b-844e-e197c00ebef2"
      },
      "execution_count": 2,
      "outputs": [
        {
          "output_type": "stream",
          "name": "stdout",
          "text": [
            "Looking in indexes: https://pypi.org/simple, https://us-python.pkg.dev/colab-wheels/public/simple/\n",
            "Collecting scikeras\n",
            "  Downloading scikeras-0.9.0-py3-none-any.whl (27 kB)\n",
            "Requirement already satisfied: packaging>=0.21 in /usr/local/lib/python3.7/dist-packages (from scikeras) (21.3)\n",
            "Requirement already satisfied: importlib-metadata>=3 in /usr/local/lib/python3.7/dist-packages (from scikeras) (4.13.0)\n",
            "Requirement already satisfied: scikit-learn>=1.0.0 in /usr/local/lib/python3.7/dist-packages (from scikeras) (1.0.2)\n",
            "Requirement already satisfied: zipp>=0.5 in /usr/local/lib/python3.7/dist-packages (from importlib-metadata>=3->scikeras) (3.10.0)\n",
            "Requirement already satisfied: typing-extensions>=3.6.4 in /usr/local/lib/python3.7/dist-packages (from importlib-metadata>=3->scikeras) (4.1.1)\n",
            "Requirement already satisfied: pyparsing!=3.0.5,>=2.0.2 in /usr/local/lib/python3.7/dist-packages (from packaging>=0.21->scikeras) (3.0.9)\n",
            "Requirement already satisfied: joblib>=0.11 in /usr/local/lib/python3.7/dist-packages (from scikit-learn>=1.0.0->scikeras) (1.2.0)\n",
            "Requirement already satisfied: threadpoolctl>=2.0.0 in /usr/local/lib/python3.7/dist-packages (from scikit-learn>=1.0.0->scikeras) (3.1.0)\n",
            "Requirement already satisfied: scipy>=1.1.0 in /usr/local/lib/python3.7/dist-packages (from scikit-learn>=1.0.0->scikeras) (1.7.3)\n",
            "Requirement already satisfied: numpy>=1.14.6 in /usr/local/lib/python3.7/dist-packages (from scikit-learn>=1.0.0->scikeras) (1.21.6)\n",
            "Installing collected packages: scikeras\n",
            "Successfully installed scikeras-0.9.0\n"
          ]
        }
      ]
    },
    {
      "cell_type": "code",
      "source": [
        "from tensorflow.keras.models import Sequential\n",
        "from tensorflow.keras.layers import Dense\n",
        "from tensorflow.keras.layers import Dropout\n",
        "from tensorflow.keras.layers import BatchNormalization\n",
        "from tensorflow.keras.utils import plot_model\n",
        "from scikeras.wrappers import KerasClassifier\n",
        "from sklearn.model_selection import cross_val_score\n",
        "from sklearn.preprocessing import LabelEncoder\n",
        "from sklearn.model_selection import StratifiedKFold\n",
        "from sklearn.preprocessing import StandardScaler\n",
        "from sklearn.pipeline import Pipeline"
      ],
      "metadata": {
        "id": "Ukt8YM-L4YQU"
      },
      "execution_count": 10,
      "outputs": []
    },
    {
      "cell_type": "code",
      "source": [
        "dataset = df.values\n",
        "dataset[:,2:12]"
      ],
      "metadata": {
        "id": "5SSUJY9xyNJV"
      },
      "execution_count": null,
      "outputs": []
    },
    {
      "cell_type": "code",
      "source": [
        "# split into input (X) and output (Y) variables\n",
        "X = dataset[:,2:12].astype(float)\n",
        "Y = dataset[:,-1]"
      ],
      "metadata": {
        "id": "xCwbbCvIyBfG"
      },
      "execution_count": null,
      "outputs": []
    },
    {
      "cell_type": "code",
      "source": [
        "Y"
      ],
      "metadata": {
        "colab": {
          "base_uri": "https://localhost:8080/"
        },
        "id": "TiN4v1hx14Ej",
        "outputId": "0b91b751-5926-4379-f22e-f46151943f8c"
      },
      "execution_count": null,
      "outputs": [
        {
          "output_type": "execute_result",
          "data": {
            "text/plain": [
              "array([1.0, 0.0, 0.0, 1.0, 1.0, 0.0, 0.0, 1.0, 0.0, 1.0, 1.0, 0.0, 1.0,\n",
              "       0.0, 0.0, 1.0, 0.0, 1.0, 0.0, 1.0, 0.0, 1.0, 0.0, 1.0, 1.0, 1.0,\n",
              "       1.0, 0.0, 0.0, 0.0, 1.0, 1.0, 1.0, 1.0, 1.0, 1.0, 0.0, 1.0, 1.0,\n",
              "       1.0, 0.0, 0.0, 1.0, 1.0, 0.0, 0.0, 0.0, 0.0, 0.0, 1.0, 1.0, 0.0,\n",
              "       0.0, 0.0, 1.0, 0.0, 0.0, 0.0, 1.0, 0.0, 0.0, 1.0, 1.0, 1.0, 0.0,\n",
              "       1.0, 0.0, 1.0, 1.0, 1.0, 1.0, 0.0, 1.0, 1.0, 1.0, 0.0, 0.0, 1.0,\n",
              "       0.0, 1.0, 1.0, 1.0, 1.0, 1.0, 0.0, 1.0, 1.0, 0.0, 1.0, 0.0, 0.0,\n",
              "       0.0, 1.0, 1.0, 1.0, 1.0, 1.0, 1.0, 0.0, 0.0, 1.0, 1.0, 1.0, 1.0,\n",
              "       0.0, 0.0, 1.0, 1.0, 1.0, 1.0, 1.0, 1.0, 0.0, 1.0, 0.0, 1.0, 1.0,\n",
              "       1.0, 1.0, 0.0, 1.0, 1.0, 0.0, 1.0, 1.0, 0.0, 1.0, 0.0, 1.0, 1.0,\n",
              "       1.0, 0.0, 1.0, 0.0, 1.0, 1.0, 0.0, 1.0, 0.0, 1.0, 1.0, 0.0, 0.0,\n",
              "       0.0, 1.0, 1.0, 1.0, 1.0, 1.0, 1.0, 1.0, 0.0, 0.0, 1.0, 1.0, 1.0,\n",
              "       1.0, 0.0, 1.0, 1.0, 0.0, 1.0, 1.0, 1.0, 1.0, 1.0, 1.0, 1.0, 0.0,\n",
              "       0.0, 1.0, 1.0, 0.0, 1.0, 1.0, 1.0, 0.0, 1.0, 0.0, 1.0, 1.0, 1.0,\n",
              "       1.0, 0.0, 1.0, 0.0, 0.0, 1.0, 1.0, 1.0, 1.0, 1.0, 0.0, 0.0, 1.0,\n",
              "       1.0, 1.0, 1.0, 1.0, 0.0, 0.0, 1.0], dtype=object)"
            ]
          },
          "metadata": {},
          "execution_count": 35
        }
      ]
    },
    {
      "cell_type": "code",
      "source": [
        "encoder = LabelEncoder()\n",
        "encoder.fit(Y)\n",
        "encoded_Y = encoder.transform(Y)"
      ],
      "metadata": {
        "id": "V8Lxs5Mjzj7w"
      },
      "execution_count": null,
      "outputs": []
    },
    {
      "cell_type": "code",
      "source": [
        "def create_model():\n",
        "  model = Sequential()\n",
        "  model.add(Dense(10, input_shape=(10,), activation='elu'))\n",
        "  model.add(BatchNormalization())\n",
        "  model.add(Dense(10, activation='elu'))\n",
        "  model.add(BatchNormalization())  \n",
        "  model.add(Dense(8, activation='elu'))\n",
        "  model.add(BatchNormalization())\n",
        "  model.add(Dense(6, activation='elu'))\n",
        "  model.add(Dropout(0.2))\n",
        "  model.add(Dense(1, activation='sigmoid'))\n",
        "  model.compile(loss='binary_crossentropy', optimizer='nadam', metrics=['accuracy'])\n",
        "\n",
        "  return model"
      ],
      "metadata": {
        "id": "4btqLfcd9-DX"
      },
      "execution_count": 7,
      "outputs": []
    },
    {
      "cell_type": "code",
      "source": [
        "# plot_model(model=create_model(), to_file='NN.png')\n",
        "plot_model(model=create_model(), to_file='NN.png', show_shapes=True)\n"
      ],
      "metadata": {
        "colab": {
          "base_uri": "https://localhost:8080/",
          "height": 1000
        },
        "id": "gYHhDf6tsRht",
        "outputId": "41da1171-6bc7-4e7c-b4b3-c3a04a08c654"
      },
      "execution_count": 12,
      "outputs": [
        {
          "output_type": "execute_result",
          "data": {
            "image/png": "[encoded data removed]",
            "text/plain": [
              "<IPython.core.display.Image object>"
            ]
          },
          "metadata": {},
          "execution_count": 12
        }
      ]
    },
    {
      "cell_type": "code",
      "source": [
        "estimators = []\n",
        "estimators.append(('standardize', StandardScaler()))\n",
        "estimators.append(('mlp', KerasClassifier(model=create_model, epochs=100, batch_size=8, verbose=1)))\n",
        "pipeline = Pipeline(estimators)"
      ],
      "metadata": {
        "id": "a8mY90Pa0BjX"
      },
      "execution_count": null,
      "outputs": []
    },
    {
      "cell_type": "code",
      "source": [
        "kfold = StratifiedKFold(n_splits=10, shuffle=True)\n",
        "results = cross_val_score(pipeline, X, encoded_Y, cv=kfold)\n"
      ],
      "metadata": {
        "id": "atv0zeHCy0WF"
      },
      "execution_count": null,
      "outputs": []
    },
    {
      "cell_type": "code",
      "source": [
        "print(\"Results: %.2f%% (%.2f%%)\" % (results.mean()*100, results.std()*100))"
      ],
      "metadata": {
        "id": "n3uBK2vD0NEz",
        "colab": {
          "base_uri": "https://localhost:8080/"
        },
        "outputId": "5ef56e13-2c5a-46f3-d6d5-38cf3b1b3e78"
      },
      "execution_count": null,
      "outputs": [
        {
          "output_type": "stream",
          "name": "stdout",
          "text": [
            "Results: 71.38% (8.14%)\n"
          ]
        }
      ]
    }
  ]
}