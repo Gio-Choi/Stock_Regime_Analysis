{
  "nbformat": 4,
  "nbformat_minor": 0,
  "metadata": {
    "colab": {
      "provenance": [],
      "mount_file_id": "1wSEeTsO1gftS-A38KcirnEZ1Mr5EhRD6",
      "authorship_tag": "ABX9TyMswSnPnfuhrqxKJT7CDHHb",
      "include_colab_link": true
    },
    "kernelspec": {
      "name": "python3",
      "display_name": "Python 3"
    },
    "language_info": {
      "name": "python"
    },
    "accelerator": "GPU",
    "gpuClass": "standard"
  },
  "cells": [
    {
      "cell_type": "markdown",
      "metadata": {
        "id": "view-in-github",
        "colab_type": "text"
      },
      "source": [
        "<a href=\"https://colab.research.google.com/github/Gio-Choi/Stock_Regime_Analysis/blob/main/RandomForest.ipynb\" target=\"_parent\"><img src=\"https://colab.research.google.com/assets/colab-badge.svg\" alt=\"Open In Colab\"/></a>"
      ]
    },
    {
      "cell_type": "code",
      "source": [
        "from google.colab import drive\n",
        "\n",
        "drive.mount('/content/drive')"
      ],
      "metadata": {
        "colab": {
          "base_uri": "https://localhost:8080/"
        },
        "id": "sgE2Mek_wOxH",
        "outputId": "ca317021-52e9-436d-863f-2510e5c96e66"
      },
      "execution_count": 18,
      "outputs": [
        {
          "output_type": "stream",
          "name": "stdout",
          "text": [
            "Drive already mounted at /content/drive; to attempt to forcibly remount, call drive.mount(\"/content/drive\", force_remount=True).\n"
          ]
        }
      ]
    },
    {
      "cell_type": "code",
      "source": [
        "import pandas as pd\n",
        "\n",
        "df = pd.read_csv('/content/drive/MyDrive/Colab Notebooks/Capstone_Dataset_Next.csv')"
      ],
      "metadata": {
        "id": "nKvFHHtHvpyW"
      },
      "execution_count": 19,
      "outputs": []
    },
    {
      "cell_type": "code",
      "source": [
        "df"
      ],
      "metadata": {
        "colab": {
          "base_uri": "https://localhost:8080/",
          "height": 419
        },
        "id": "meXu-G00wgSr",
        "outputId": "e4ca29ca-90c3-408c-9ea6-8f51eb2a979a"
      },
      "execution_count": 20,
      "outputs": [
        {
          "output_type": "execute_result",
          "data": {
            "text/plain": [
              "     Unnamed: 0        ^GSPC  VIXCLS  CPIAUCSL     M2SL  FEDFUNDS  T10Y2Y  \\\n",
              "0    2004-04-01  1132.170044   16.65   187.400   6191.2      1.00    2.26   \n",
              "1    2004-05-03  1117.489990   16.62   188.200   6268.1      1.00    2.19   \n",
              "2    2004-06-01  1121.199951   16.30   188.900   6270.5      1.03    2.11   \n",
              "3    2004-07-01  1128.939941   15.20   189.100   6284.3      1.26    1.93   \n",
              "4    2004-08-02  1106.619995   15.37   189.200   6310.6      1.43    1.82   \n",
              "..          ...          ...     ...       ...      ...       ...     ...   \n",
              "196  2020-08-03  3294.610107   24.28   259.580  18357.4      0.10    0.45   \n",
              "197  2020-09-01  3526.649902   26.12   260.190  18575.2      0.09    0.55   \n",
              "198  2020-10-01  3380.800049   26.70   260.352  18735.7      0.09    0.54   \n",
              "199  2020-11-02  3310.239990   37.13   260.721  18969.8      0.09    0.71   \n",
              "200  2020-12-01  3662.449951   20.77   261.564  19124.7      0.09    0.75   \n",
              "\n",
              "      AAA  UNRATE  PCUOMFGOMFG  USPHCI     IQ  S&P_pct  \n",
              "0    5.73     5.6        141.8   91.28  103.7      0.0  \n",
              "1    6.04     5.6        143.3   91.52  104.1      0.0  \n",
              "2    6.01     5.6        142.9   91.73  103.4      1.0  \n",
              "3    5.82     5.5        143.2   91.95  103.9      1.0  \n",
              "4    5.65     5.4        143.7   92.15  103.4      0.0  \n",
              "..    ...     ...          ...     ...    ...      ...  \n",
              "196  2.25     8.4        193.0  121.22  122.1      1.0  \n",
              "197  2.31     7.9        192.9  121.97  122.8      1.0  \n",
              "198  2.35     6.9        193.7  122.93  123.0      0.0  \n",
              "199  2.30     6.7        194.5  123.41  124.0      0.0  \n",
              "200  2.26     6.7        196.7  123.66  125.5      1.0  \n",
              "\n",
              "[201 rows x 13 columns]"
            ],
            "text/html": [
              "\n",
              "  <div id=\"df-dec61717-15ae-4f35-976e-389accdcd6c8\">\n",
              "    <div class=\"colab-df-container\">\n",
              "      <div>\n",
              "<style scoped>\n",
              "    .dataframe tbody tr th:only-of-type {\n",
              "        vertical-align: middle;\n",
              "    }\n",
              "\n",
              "    .dataframe tbody tr th {\n",
              "        vertical-align: top;\n",
              "    }\n",
              "\n",
              "    .dataframe thead th {\n",
              "        text-align: right;\n",
              "    }\n",
              "</style>\n",
              "<table border=\"1\" class=\"dataframe\">\n",
              "  <thead>\n",
              "    <tr style=\"text-align: right;\">\n",
              "      <th></th>\n",
              "      <th>Unnamed: 0</th>\n",
              "      <th>^GSPC</th>\n",
              "      <th>VIXCLS</th>\n",
              "      <th>CPIAUCSL</th>\n",
              "      <th>M2SL</th>\n",
              "      <th>FEDFUNDS</th>\n",
              "      <th>T10Y2Y</th>\n",
              "      <th>AAA</th>\n",
              "      <th>UNRATE</th>\n",
              "      <th>PCUOMFGOMFG</th>\n",
              "      <th>USPHCI</th>\n",
              "      <th>IQ</th>\n",
              "      <th>S&amp;P_pct</th>\n",
              "    </tr>\n",
              "  </thead>\n",
              "  <tbody>\n",
              "    <tr>\n",
              "      <th>0</th>\n",
              "      <td>2004-04-01</td>\n",
              "      <td>1132.170044</td>\n",
              "      <td>16.65</td>\n",
              "      <td>187.400</td>\n",
              "      <td>6191.2</td>\n",
              "      <td>1.00</td>\n",
              "      <td>2.26</td>\n",
              "      <td>5.73</td>\n",
              "      <td>5.6</td>\n",
              "      <td>141.8</td>\n",
              "      <td>91.28</td>\n",
              "      <td>103.7</td>\n",
              "      <td>0.0</td>\n",
              "    </tr>\n",
              "    <tr>\n",
              "      <th>1</th>\n",
              "      <td>2004-05-03</td>\n",
              "      <td>1117.489990</td>\n",
              "      <td>16.62</td>\n",
              "      <td>188.200</td>\n",
              "      <td>6268.1</td>\n",
              "      <td>1.00</td>\n",
              "      <td>2.19</td>\n",
              "      <td>6.04</td>\n",
              "      <td>5.6</td>\n",
              "      <td>143.3</td>\n",
              "      <td>91.52</td>\n",
              "      <td>104.1</td>\n",
              "      <td>0.0</td>\n",
              "    </tr>\n",
              "    <tr>\n",
              "      <th>2</th>\n",
              "      <td>2004-06-01</td>\n",
              "      <td>1121.199951</td>\n",
              "      <td>16.30</td>\n",
              "      <td>188.900</td>\n",
              "      <td>6270.5</td>\n",
              "      <td>1.03</td>\n",
              "      <td>2.11</td>\n",
              "      <td>6.01</td>\n",
              "      <td>5.6</td>\n",
              "      <td>142.9</td>\n",
              "      <td>91.73</td>\n",
              "      <td>103.4</td>\n",
              "      <td>1.0</td>\n",
              "    </tr>\n",
              "    <tr>\n",
              "      <th>3</th>\n",
              "      <td>2004-07-01</td>\n",
              "      <td>1128.939941</td>\n",
              "      <td>15.20</td>\n",
              "      <td>189.100</td>\n",
              "      <td>6284.3</td>\n",
              "      <td>1.26</td>\n",
              "      <td>1.93</td>\n",
              "      <td>5.82</td>\n",
              "      <td>5.5</td>\n",
              "      <td>143.2</td>\n",
              "      <td>91.95</td>\n",
              "      <td>103.9</td>\n",
              "      <td>1.0</td>\n",
              "    </tr>\n",
              "    <tr>\n",
              "      <th>4</th>\n",
              "      <td>2004-08-02</td>\n",
              "      <td>1106.619995</td>\n",
              "      <td>15.37</td>\n",
              "      <td>189.200</td>\n",
              "      <td>6310.6</td>\n",
              "      <td>1.43</td>\n",
              "      <td>1.82</td>\n",
              "      <td>5.65</td>\n",
              "      <td>5.4</td>\n",
              "      <td>143.7</td>\n",
              "      <td>92.15</td>\n",
              "      <td>103.4</td>\n",
              "      <td>0.0</td>\n",
              "    </tr>\n",
              "    <tr>\n",
              "      <th>...</th>\n",
              "      <td>...</td>\n",
              "      <td>...</td>\n",
              "      <td>...</td>\n",
              "      <td>...</td>\n",
              "      <td>...</td>\n",
              "      <td>...</td>\n",
              "      <td>...</td>\n",
              "      <td>...</td>\n",
              "      <td>...</td>\n",
              "      <td>...</td>\n",
              "      <td>...</td>\n",
              "      <td>...</td>\n",
              "      <td>...</td>\n",
              "    </tr>\n",
              "    <tr>\n",
              "      <th>196</th>\n",
              "      <td>2020-08-03</td>\n",
              "      <td>3294.610107</td>\n",
              "      <td>24.28</td>\n",
              "      <td>259.580</td>\n",
              "      <td>18357.4</td>\n",
              "      <td>0.10</td>\n",
              "      <td>0.45</td>\n",
              "      <td>2.25</td>\n",
              "      <td>8.4</td>\n",
              "      <td>193.0</td>\n",
              "      <td>121.22</td>\n",
              "      <td>122.1</td>\n",
              "      <td>1.0</td>\n",
              "    </tr>\n",
              "    <tr>\n",
              "      <th>197</th>\n",
              "      <td>2020-09-01</td>\n",
              "      <td>3526.649902</td>\n",
              "      <td>26.12</td>\n",
              "      <td>260.190</td>\n",
              "      <td>18575.2</td>\n",
              "      <td>0.09</td>\n",
              "      <td>0.55</td>\n",
              "      <td>2.31</td>\n",
              "      <td>7.9</td>\n",
              "      <td>192.9</td>\n",
              "      <td>121.97</td>\n",
              "      <td>122.8</td>\n",
              "      <td>1.0</td>\n",
              "    </tr>\n",
              "    <tr>\n",
              "      <th>198</th>\n",
              "      <td>2020-10-01</td>\n",
              "      <td>3380.800049</td>\n",
              "      <td>26.70</td>\n",
              "      <td>260.352</td>\n",
              "      <td>18735.7</td>\n",
              "      <td>0.09</td>\n",
              "      <td>0.54</td>\n",
              "      <td>2.35</td>\n",
              "      <td>6.9</td>\n",
              "      <td>193.7</td>\n",
              "      <td>122.93</td>\n",
              "      <td>123.0</td>\n",
              "      <td>0.0</td>\n",
              "    </tr>\n",
              "    <tr>\n",
              "      <th>199</th>\n",
              "      <td>2020-11-02</td>\n",
              "      <td>3310.239990</td>\n",
              "      <td>37.13</td>\n",
              "      <td>260.721</td>\n",
              "      <td>18969.8</td>\n",
              "      <td>0.09</td>\n",
              "      <td>0.71</td>\n",
              "      <td>2.30</td>\n",
              "      <td>6.7</td>\n",
              "      <td>194.5</td>\n",
              "      <td>123.41</td>\n",
              "      <td>124.0</td>\n",
              "      <td>0.0</td>\n",
              "    </tr>\n",
              "    <tr>\n",
              "      <th>200</th>\n",
              "      <td>2020-12-01</td>\n",
              "      <td>3662.449951</td>\n",
              "      <td>20.77</td>\n",
              "      <td>261.564</td>\n",
              "      <td>19124.7</td>\n",
              "      <td>0.09</td>\n",
              "      <td>0.75</td>\n",
              "      <td>2.26</td>\n",
              "      <td>6.7</td>\n",
              "      <td>196.7</td>\n",
              "      <td>123.66</td>\n",
              "      <td>125.5</td>\n",
              "      <td>1.0</td>\n",
              "    </tr>\n",
              "  </tbody>\n",
              "</table>\n",
              "<p>201 rows × 13 columns</p>\n",
              "</div>\n",
              "      <button class=\"colab-df-convert\" onclick=\"convertToInteractive('df-dec61717-15ae-4f35-976e-389accdcd6c8')\"\n",
              "              title=\"Convert this dataframe to an interactive table.\"\n",
              "              style=\"display:none;\">\n",
              "        \n",
              "  <svg xmlns=\"http://www.w3.org/2000/svg\" height=\"24px\"viewBox=\"0 0 24 24\"\n",
              "       width=\"24px\">\n",
              "    <path d=\"M0 0h24v24H0V0z\" fill=\"none\"/>\n",
              "    <path d=\"M18.56 5.44l.94 2.06.94-2.06 2.06-.94-2.06-.94-.94-2.06-.94 2.06-2.06.94zm-11 1L8.5 8.5l.94-2.06 2.06-.94-2.06-.94L8.5 2.5l-.94 2.06-2.06.94zm10 10l.94 2.06.94-2.06 2.06-.94-2.06-.94-.94-2.06-.94 2.06-2.06.94z\"/><path d=\"M17.41 7.96l-1.37-1.37c-.4-.4-.92-.59-1.43-.59-.52 0-1.04.2-1.43.59L10.3 9.45l-7.72 7.72c-.78.78-.78 2.05 0 2.83L4 21.41c.39.39.9.59 1.41.59.51 0 1.02-.2 1.41-.59l7.78-7.78 2.81-2.81c.8-.78.8-2.07 0-2.86zM5.41 20L4 18.59l7.72-7.72 1.47 1.35L5.41 20z\"/>\n",
              "  </svg>\n",
              "      </button>\n",
              "      \n",
              "  <style>\n",
              "    .colab-df-container {\n",
              "      display:flex;\n",
              "      flex-wrap:wrap;\n",
              "      gap: 12px;\n",
              "    }\n",
              "\n",
              "    .colab-df-convert {\n",
              "      background-color: #E8F0FE;\n",
              "      border: none;\n",
              "      border-radius: 50%;\n",
              "      cursor: pointer;\n",
              "      display: none;\n",
              "      fill: #1967D2;\n",
              "      height: 32px;\n",
              "      padding: 0 0 0 0;\n",
              "      width: 32px;\n",
              "    }\n",
              "\n",
              "    .colab-df-convert:hover {\n",
              "      background-color: #E2EBFA;\n",
              "      box-shadow: 0px 1px 2px rgba(60, 64, 67, 0.3), 0px 1px 3px 1px rgba(60, 64, 67, 0.15);\n",
              "      fill: #174EA6;\n",
              "    }\n",
              "\n",
              "    [theme=dark] .colab-df-convert {\n",
              "      background-color: #3B4455;\n",
              "      fill: #D2E3FC;\n",
              "    }\n",
              "\n",
              "    [theme=dark] .colab-df-convert:hover {\n",
              "      background-color: #434B5C;\n",
              "      box-shadow: 0px 1px 3px 1px rgba(0, 0, 0, 0.15);\n",
              "      filter: drop-shadow(0px 1px 2px rgba(0, 0, 0, 0.3));\n",
              "      fill: #FFFFFF;\n",
              "    }\n",
              "  </style>\n",
              "\n",
              "      <script>\n",
              "        const buttonEl =\n",
              "          document.querySelector('#df-dec61717-15ae-4f35-976e-389accdcd6c8 button.colab-df-convert');\n",
              "        buttonEl.style.display =\n",
              "          google.colab.kernel.accessAllowed ? 'block' : 'none';\n",
              "\n",
              "        async function convertToInteractive(key) {\n",
              "          const element = document.querySelector('#df-dec61717-15ae-4f35-976e-389accdcd6c8');\n",
              "          const dataTable =\n",
              "            await google.colab.kernel.invokeFunction('convertToInteractive',\n",
              "                                                     [key], {});\n",
              "          if (!dataTable) return;\n",
              "\n",
              "          const docLinkHtml = 'Like what you see? Visit the ' +\n",
              "            '<a target=\"_blank\" href=https://colab.research.google.com/notebooks/data_table.ipynb>data table notebook</a>'\n",
              "            + ' to learn more about interactive tables.';\n",
              "          element.innerHTML = '';\n",
              "          dataTable['output_type'] = 'display_data';\n",
              "          await google.colab.output.renderOutput(dataTable, element);\n",
              "          const docLink = document.createElement('div');\n",
              "          docLink.innerHTML = docLinkHtml;\n",
              "          element.appendChild(docLink);\n",
              "        }\n",
              "      </script>\n",
              "    </div>\n",
              "  </div>\n",
              "  "
            ]
          },
          "metadata": {},
          "execution_count": 20
        }
      ]
    },
    {
      "cell_type": "code",
      "source": [
        "from sklearn.ensemble import RandomForestClassifier\n",
        "from sklearn.model_selection import cross_val_score\n",
        "from sklearn.preprocessing import LabelEncoder\n",
        "from sklearn.model_selection import StratifiedKFold\n",
        "from sklearn.preprocessing import StandardScaler\n",
        "from sklearn.pipeline import Pipeline\n",
        "from sklearn.metrics import accuracy_score\n",
        "from sklearn.metrics import precision_recall_fscore_support\n",
        "from sklearn.metrics import confusion_matrix\n",
        "import seaborn as sns\n",
        "import matplotlib.pyplot as plt\n",
        "import numpy as np"
      ],
      "metadata": {
        "id": "Ukt8YM-L4YQU"
      },
      "execution_count": 33,
      "outputs": []
    },
    {
      "cell_type": "code",
      "source": [
        "dataset = df.values\n",
        "dataset[:,2:12]"
      ],
      "metadata": {
        "id": "5SSUJY9xyNJV",
        "colab": {
          "base_uri": "https://localhost:8080/"
        },
        "outputId": "c90bbc59-3376-410e-9668-0944ede30083"
      },
      "execution_count": 22,
      "outputs": [
        {
          "output_type": "execute_result",
          "data": {
            "text/plain": [
              "array([[16.65, 187.4, 6191.2, ..., 141.8, 91.28, 103.7],\n",
              "       [16.62, 188.2, 6268.1, ..., 143.3, 91.52, 104.1],\n",
              "       [16.3, 188.9, 6270.5, ..., 142.9, 91.73, 103.4],\n",
              "       ...,\n",
              "       [26.7, 260.352, 18735.7, ..., 193.7, 122.93, 123.0],\n",
              "       [37.13, 260.721, 18969.8, ..., 194.5, 123.41, 124.0],\n",
              "       [20.77, 261.564, 19124.7, ..., 196.7, 123.66, 125.5]], dtype=object)"
            ]
          },
          "metadata": {},
          "execution_count": 22
        }
      ]
    },
    {
      "cell_type": "code",
      "source": [
        "from sklearn.model_selection import train_test_split\n",
        "\n",
        "train_data, test_data = train_test_split(dataset, test_size = 0.2, random_state = 42)\n",
        "print(\"훈련 데이터 개수 : \", len(train_data))\n",
        "print(\"테스트 데이터 개수 : \", len(test_data))"
      ],
      "metadata": {
        "colab": {
          "base_uri": "https://localhost:8080/"
        },
        "id": "j9KcTpsEKQPF",
        "outputId": "078d0aca-0e4d-4961-d2a4-d1fd194875be"
      },
      "execution_count": 23,
      "outputs": [
        {
          "output_type": "stream",
          "name": "stdout",
          "text": [
            "훈련 데이터 개수 :  160\n",
            "테스트 데이터 개수 :  41\n"
          ]
        }
      ]
    },
    {
      "cell_type": "code",
      "source": [
        "# split into input (X) and output (Y) variables\n",
        "X_train = train_data[:,2:12].astype(float)\n",
        "Y_train_raw = train_data[:,-1]"
      ],
      "metadata": {
        "id": "xCwbbCvIyBfG"
      },
      "execution_count": 24,
      "outputs": []
    },
    {
      "cell_type": "code",
      "source": [
        "# Train Set Y variable Labeling\n",
        "encoder = LabelEncoder()\n",
        "encoder.fit(Y_train_raw)\n",
        "Y_train = encoder.transform(Y_train_raw)"
      ],
      "metadata": {
        "id": "V8Lxs5Mjzj7w"
      },
      "execution_count": 25,
      "outputs": []
    },
    {
      "cell_type": "code",
      "source": [
        "# Test Set Labeling\n",
        "X_test = test_data[:,2:12].astype(float)\n",
        "Y_test = test_data[:,-1]\n",
        "encoder_test = LabelEncoder()\n",
        "encoder_test.fit(Y_test)\n",
        "Y_test = encoder_test.transform(Y_test)"
      ],
      "metadata": {
        "id": "1LCIqUPvt2vR"
      },
      "execution_count": 26,
      "outputs": []
    },
    {
      "cell_type": "markdown",
      "source": [
        "# Default Random Forest Model (Scikit-learn)"
      ],
      "metadata": {
        "id": "PHZWcJ9Q3hwc"
      }
    },
    {
      "cell_type": "code",
      "source": [
        "rf_model = RandomForestClassifier(n_estimators=100, max_features=\"auto\", random_state=44, verbose = 1)\n",
        "rf_model.fit(X_train, Y_train)"
      ],
      "metadata": {
        "id": "QVe681WZ206d"
      },
      "execution_count": null,
      "outputs": []
    },
    {
      "cell_type": "code",
      "source": [
        "rf_model.get_params()"
      ],
      "metadata": {
        "colab": {
          "base_uri": "https://localhost:8080/"
        },
        "id": "c3ZOexIH06Er",
        "outputId": "9e565cf0-1241-4f51-ffb1-4fbc406fb283"
      },
      "execution_count": 39,
      "outputs": [
        {
          "output_type": "execute_result",
          "data": {
            "text/plain": [
              "{'bootstrap': True,\n",
              " 'ccp_alpha': 0.0,\n",
              " 'class_weight': None,\n",
              " 'criterion': 'gini',\n",
              " 'max_depth': None,\n",
              " 'max_features': 'auto',\n",
              " 'max_leaf_nodes': None,\n",
              " 'max_samples': None,\n",
              " 'min_impurity_decrease': 0.0,\n",
              " 'min_samples_leaf': 1,\n",
              " 'min_samples_split': 2,\n",
              " 'min_weight_fraction_leaf': 0.0,\n",
              " 'n_estimators': 100,\n",
              " 'n_jobs': None,\n",
              " 'oob_score': False,\n",
              " 'random_state': 44,\n",
              " 'verbose': 0,\n",
              " 'warm_start': False}"
            ]
          },
          "metadata": {},
          "execution_count": 39
        }
      ]
    },
    {
      "cell_type": "code",
      "source": [
        "y_pred = rf_model.predict(X_test) \n",
        "y_true = Y_test "
      ],
      "metadata": {
        "id": "NiuB2z0l24cN"
      },
      "execution_count": null,
      "outputs": []
    },
    {
      "cell_type": "code",
      "source": [
        "# Model Evaluation\n",
        "print(\"Accuracy:\", np.round(accuracy_score(y_true, y_pred), 2))\n",
        "precision, recall, fscore, _ = precision_recall_fscore_support(y_true, y_pred,\n",
        "                                                               average='binary')\n",
        "print(\"Precision: \", np.round(precision, 2))\n",
        "print(\"Recall: \", np.round(recall, 2))\n",
        "print(\"F-Score: \", np.round(fscore, 2))"
      ],
      "metadata": {
        "colab": {
          "base_uri": "https://localhost:8080/"
        },
        "id": "NQbCSaRwyfD9",
        "outputId": "b56f0719-7a0b-472e-b2a0-3780be21c10c"
      },
      "execution_count": 37,
      "outputs": [
        {
          "output_type": "stream",
          "name": "stdout",
          "text": [
            "Accuracy: 0.59\n",
            "Precision:  0.69\n",
            "Recall:  0.67\n",
            "F-Score:  0.68\n"
          ]
        }
      ]
    },
    {
      "cell_type": "markdown",
      "source": [
        "# Develop RF model by Parameter Tuning.\n",
        "The accuracy of the default RF model was 0.59, which is too low. Therefore, I tried tuning the parameter of RF model as below. "
      ],
      "metadata": {
        "id": "skgYVi5y3D4j"
      }
    },
    {
      "cell_type": "code",
      "source": [
        "from sklearn.model_selection import RandomizedSearchCV\n",
        "# n_estimators = the number of decision trees\n",
        "n_estimators = [int(x) for x in np.linspace(start = 200, stop = 2000, num = 10)]\n",
        "# max_features = the number of features each decision tree takes into consideration\n",
        "max_features = ['auto', 'sqrt']\n",
        "# Maximum number of levels in tree\n",
        "max_depth = [int(x) for x in np.linspace(10, 110, num = 11)]\n",
        "max_depth.append(None)\n",
        "# Minimum number of samples required to split a node\n",
        "min_samples_split = [2, 5, 10]\n",
        "# Minimum number of samples required at each leaf node\n",
        "min_samples_leaf = [1, 2, 4]\n",
        "bootstrap = [True, False]\n",
        "# Create the random grid\n",
        "random_grid = {'n_estimators': n_estimators,\n",
        "               'max_features': max_features,\n",
        "               'max_depth': max_depth,\n",
        "               'min_samples_split': min_samples_split,\n",
        "               'min_samples_leaf': min_samples_leaf,\n",
        "               'bootstrap': bootstrap}"
      ],
      "metadata": {
        "id": "_YfPZ7Mt27eg"
      },
      "execution_count": 40,
      "outputs": []
    },
    {
      "cell_type": "code",
      "source": [
        "# Use the random grid to search for best hyperparameters\n",
        "# First create the base model to tune\n",
        "rf = RandomForestClassifier()\n",
        "# Random search of parameters, using 3 fold cross validation, \n",
        "# search across 100 different combinations, and use all available cores\n",
        "rf_random = RandomizedSearchCV(estimator = rf, param_distributions = random_grid, n_iter = 100, cv = 3, verbose=1, random_state=42, n_jobs = -1)\n",
        "# Fit the random search model\n",
        "rf_random.fit(X_train, Y_train)"
      ],
      "metadata": {
        "colab": {
          "base_uri": "https://localhost:8080/"
        },
        "id": "ArR7n7g13ucU",
        "outputId": "af780ca9-f2f2-41e0-d2ef-8f3f58ce7416"
      },
      "execution_count": 42,
      "outputs": [
        {
          "output_type": "stream",
          "name": "stdout",
          "text": [
            "Fitting 3 folds for each of 100 candidates, totalling 300 fits\n"
          ]
        },
        {
          "output_type": "execute_result",
          "data": {
            "text/plain": [
              "RandomizedSearchCV(cv=3, estimator=RandomForestClassifier(), n_iter=100,\n",
              "                   n_jobs=-1,\n",
              "                   param_distributions={'bootstrap': [True, False],\n",
              "                                        'max_depth': [10, 20, 30, 40, 50, 60,\n",
              "                                                      70, 80, 90, 100, 110,\n",
              "                                                      None],\n",
              "                                        'max_features': ['auto', 'sqrt'],\n",
              "                                        'min_samples_leaf': [1, 2, 4],\n",
              "                                        'min_samples_split': [2, 5, 10],\n",
              "                                        'n_estimators': [200, 400, 600, 800,\n",
              "                                                         1000, 1200, 1400, 1600,\n",
              "                                                         1800, 2000]},\n",
              "                   random_state=42, verbose=1)"
            ]
          },
          "metadata": {},
          "execution_count": 42
        }
      ]
    },
    {
      "cell_type": "code",
      "source": [
        "rf_random.best_params_"
      ],
      "metadata": {
        "colab": {
          "base_uri": "https://localhost:8080/"
        },
        "id": "TtbLg1Ss4V_e",
        "outputId": "a14e8a47-d758-4351-a062-ad16da97e228"
      },
      "execution_count": 43,
      "outputs": [
        {
          "output_type": "execute_result",
          "data": {
            "text/plain": [
              "{'n_estimators': 800,\n",
              " 'min_samples_split': 10,\n",
              " 'min_samples_leaf': 4,\n",
              " 'max_features': 'sqrt',\n",
              " 'max_depth': 50,\n",
              " 'bootstrap': True}"
            ]
          },
          "metadata": {},
          "execution_count": 43
        }
      ]
    },
    {
      "cell_type": "code",
      "source": [
        "y_pred = rf_random.predict(X_test) \n",
        "y_true = Y_test "
      ],
      "metadata": {
        "id": "0Ygj6eo65_O5"
      },
      "execution_count": 45,
      "outputs": []
    },
    {
      "cell_type": "code",
      "source": [
        "# Model Evaluation\n",
        "print(\"Accuracy:\", np.round(accuracy_score(y_true, y_pred), 2))\n",
        "precision, recall, fscore, _ = precision_recall_fscore_support(y_true, y_pred,\n",
        "                                                               average='binary')\n",
        "print(\"Precision: \", np.round(precision, 2))\n",
        "print(\"Recall: \", np.round(recall, 2))\n",
        "print(\"F-Score: \", np.round(fscore, 2))"
      ],
      "metadata": {
        "colab": {
          "base_uri": "https://localhost:8080/"
        },
        "id": "ChMkHM-75_2z",
        "outputId": "66772244-47b3-408f-db23-8a0527aefb44"
      },
      "execution_count": 46,
      "outputs": [
        {
          "output_type": "stream",
          "name": "stdout",
          "text": [
            "Accuracy: 0.71\n",
            "Precision:  0.76\n",
            "Recall:  0.81\n",
            "F-Score:  0.79\n"
          ]
        }
      ]
    },
    {
      "cell_type": "code",
      "source": [],
      "metadata": {
        "id": "oF32j0Pf6IVS"
      },
      "execution_count": null,
      "outputs": []
    }
  ]
}